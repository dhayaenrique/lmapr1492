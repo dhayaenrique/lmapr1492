{
 "cells": [
  {
   "cell_type": "markdown",
   "metadata": {},
   "source": [
    "# Structure et réseau cristallins\n",
    "L'objectif ici est de caractériser la structure et réseau cristallins du cristal [CdBr2](https://materialsproject.org/materials/mp-568690/); on s'intéresse pour celà aux vecteurs de bases des réseaux direct et réciproque, le type de maille, le système cristallin et le groupe ponctuel. Le groupe d'espace ainsi que l'ensemble des symétries relatif à la structure sont décrits dans le notebook [symmetry](symmetry.ipynb)\n",
    "\n",
    "Il faut en premier lieu obtenir la structure via [MaterialsProject](https://materialsproject.org) et la convertir également en fichier CIF:"
   ]
  },
  {
   "cell_type": "code",
   "execution_count": 1,
   "metadata": {},
   "outputs": [],
   "source": [
    "from pymatgen.ext.matproj import MPRester\n",
    "from pymatgen.io.cif import CifWriter\n",
    "from pymatgen.symmetry.analyzer import SpacegroupAnalyzer\n",
    "import math\n",
    "# Permet d'utiliser l'interface du MP\n",
    "with MPRester(\"2r9TvKUOgDsTx87F\")as mpr:\n",
    "    \n",
    "    # Permet d'obtenir l'objet 'structure' sur le MP\n",
    "    structure = mpr.get_structure_by_material_id(\"mp-568690\")\n",
    "    new_s=SpacegroupAnalyzer(structure).get_primitive_standard_structure()\n",
    "    sym=SpacegroupAnalyzer(structure).get_refined_structure() #Permet d'obtenir la maille hexagonale\n",
    "    # Crée un objet permettant de convertir la structure en fichier cif\n",
    "    cwsym=CifWriter(structure,0.1) #Fichier avec maille hexagonale\n",
    "    cwsym.write_file(\"CdBr2sym\")\n",
    "    cwprim=CifWriter(new_s)     #Fichier avec maille primitive\n",
    "    cwprim.write_file(\"CdBr2prim\")\n",
    "    "
   ]
  },
  {
   "cell_type": "markdown",
   "metadata": {},
   "source": [
    "Deux fichiers cif ont été écrits, un pour la maille primitive de la structure et un pour la maille conventionnelle comme nous le verrons dans le point suivant.\n",
    "\n",
    "## Vecteurs de bases\n",
    "\n",
    "La librairie [pymatgen](https://pymatgen.org/) permet d'obtenir les caractéristiques des vecteurs de bases (longueurs,angles et volume de la maille):\n"
   ]
  },
  {
   "cell_type": "code",
   "execution_count": 12,
   "metadata": {},
   "outputs": [
    {
     "name": "stdout",
     "output_type": "stream",
     "text": [
      "Maille primitive:\n",
      "longueurs: la= 7.246402217449919 ; lb= 7.246402217449919 ; lc= 7.246402217449919\n",
      "angles: alpha= 32.67990124662151 ; beta= 32.67990124662151 ; gamma= 32.67990124662154\n",
      "Volume de la maille: 98.67117723279073\n",
      "\n",
      "Maille conventionnelle:\n",
      "longueurs: lA= 4.07734594722864 ; lB= 4.07734594722864 ; lC= 20.560127819481632\n",
      "angles: alpha= 90.0 ; beta= 90.0 ; gamma= 120.00000000000001\n",
      "Volume de la maille: 296.01353169837216\n",
      "\n",
      "Réseau réciproque, maille primitive uniquement:\n",
      "longueurs: la*= 1.8054440347937817 ; lb*= 1.8054440347937821 ; lc*= 1.805444034793782\n",
      "angles: alpha= 117.19520382564485 ; beta= 117.19520382564485 ; gamma= 117.19520382564485\n",
      "Volume de la maille: 2.5139075097602634\n"
     ]
    }
   ],
   "source": [
    "# Donne les longueurs, angles et volume des différentes maille\n",
    "\n",
    "       #Maille primitive \n",
    "lat=new_s.lattice\n",
    "l=lat.abc\n",
    "ang=lat.angles\n",
    "omega=lat.volume\n",
    "       #Maille Conventionnelle\n",
    "lat2=sym.lattice\n",
    "L=lat2.abc\n",
    "Ang=lat2.angles\n",
    "Omega=lat2.volume\n",
    "\n",
    "       #Réseau réciproque, maille primitive\n",
    "latrec=lat.reciprocal_lattice\n",
    "lr=latrec.abc\n",
    "angr=latrec.angles\n",
    "omegar=latrec.volume\n",
    "\n",
    "print('Maille primitive:')\n",
    "print('longueurs: la=',l[0],';','lb=',l[1],';', 'lc=',l[2])\n",
    "print('angles: alpha=',ang[0],';','beta=',ang[1],';', 'gamma=',ang[2])\n",
    "print('Volume de la maille:',omega)\n",
    "print()\n",
    "print('Maille conventionnelle:')\n",
    "print('longueurs: lA=',L[0],';','lB=',L[1],';', 'lC=',L[2])\n",
    "print('angles: alpha=',Ang[0],';','beta=',Ang[1],';', 'gamma=',Ang[2])\n",
    "print('Volume de la maille:',Omega)\n",
    "print()\n",
    "print('Réseau réciproque, maille primitive uniquement:')\n",
    "print('longueurs: la*=',lr[0],';','lb*=',lr[1],';', 'lc*=',lr[2])\n",
    "print('angles: alpha=',angr[0],';','beta=',angr[1],';', 'gamma=',angr[2])\n",
    "print('Volume de la maille:',omegar)\n"
   ]
  },
  {
   "cell_type": "markdown",
   "metadata": {},
   "source": [
    "La maille conventionnelle (hexagonale) a été calculée en plus car elle est plus commode pour décrire les symétries des groupes ponctuels et d'espaces de la structure, elle sera donc utilisée par la suite. Il n'est par contre pas nécessaire de donner son réseau réciproque.\n",
    "\n",
    "\n",
    "Les vecteurs primitifs ont donc comme caractéristiques:\n",
    "* $l_a=l_b=l_c=7.246 Å$  \n",
    "* $\\alpha=\\beta=\\gamma=32.68°$\n",
    "* $\\Omega=98.671 Å^3$\n",
    "\n",
    "Ceci correspond à une maille rhombohédrique.\n",
    "\n",
    "\n",
    "\n",
    "Les vecteurs de la maille conventionnelle sont caractérisés par:\n",
    "* $l_A=l_B=4.077Å;$  $l_C=20.560Å$  \n",
    "* $\\alpha=\\beta=90°;\\gamma=120°$ \n",
    "* $\\Omega=296.014 Å^3$\n",
    "\n",
    "et correspond donc à une maille hexagonale.\n",
    "\n",
    "Enfin, le réseau réciproque standard (avec un facteur $2\\pi$) présente les caractéristiques: \n",
    "* $l_{a*}=l_{b*}=l_{c*}=1.805 Å$ \n",
    "* $\\alpha=\\beta=\\gamma=117.20°$.\n",
    "* $\\Omega=2.514Å^3 $\n",
    "\n",
    "Les vecteurs correspondants (exprimés dans une base orthonormée cartésienne) peuvent également être obtenus:\n"
   ]
  },
  {
   "cell_type": "code",
   "execution_count": 21,
   "metadata": {},
   "outputs": [
    {
     "name": "stdout",
     "output_type": "stream",
     "text": [
      "Maille primitive:\n",
      "a= 7.246402217449919 [ 0.95960936 -0.28133588  0.        ]\n",
      "b= 7.246402217449919 [0.95960936 0.28133588 0.        ]\n",
      "c= 7.246402217449919 [0.877128   0.         0.48025667]\n",
      "\n",
      "Maille conventionelle:\n",
      "A= 4.07734594722864 [1. 0. 0.]\n",
      "B= 4.07734594722864 [-0.5        0.8660254  0.       ]\n",
      "C= 20.560127819481632 [0. 0. 1.]\n",
      "\n",
      "Réseau réciproque, maille primitive uniquement:\n",
      "a*= 1.8054440347937817 [ 0.25023551 -0.85352899 -0.45702347]\n",
      "b*= 1.8054440347937821 [ 0.25023551  0.85352899 -0.45702347]\n",
      "c*= 1.805444034793782 [0. 0. 1.]\n"
     ]
    }
   ],
   "source": [
    " # Donne les vecteurs primitifs du réseau direct et réciproque\n",
    "    #Maille primitive\n",
    "a=lat.get_cartesian_coords([1,0,0])\n",
    "b=lat.get_cartesian_coords([0,1,0])\n",
    "c=lat.get_cartesian_coords([0,0,1])\n",
    "    \n",
    "    #Maille conventionnelle\n",
    "A=lat2.get_cartesian_coords([1,0,0])\n",
    "B=lat2.get_cartesian_coords([0,1,0])\n",
    "C=lat2.get_cartesian_coords([0,0,1])\n",
    "    \n",
    "    #Réseau réciproque, maille primitive uniquement\n",
    "ar=latrec.get_cartesian_coords([1,0,0])\n",
    "br=latrec.get_cartesian_coords([0,1,0])\n",
    "cr=latrec.get_cartesian_coords([0,0,1])\n",
    "    \n",
    "print('Maille primitive:')\n",
    "print('a=',l[0],a/l[0])\n",
    "print('b=',l[1],b/l[1])\n",
    "print('c=',l[2],c/l[2])\n",
    "print()\n",
    "print('Maille conventionelle:')\n",
    "print('A=',L[0],A/L[0])\n",
    "print('B=',L[1],B/L[1])\n",
    "print('C=',L[2],C/L[2])\n",
    "print()\n",
    "print('Réseau réciproque, maille primitive uniquement:')\n",
    "print('a*=',lr[0],ar/lr[0])\n",
    "print('b*=',lr[1],br/lr[1])\n",
    "print('c*=',lr[2],cr/lr[2])\n"
   ]
  },
  {
   "cell_type": "markdown",
   "metadata": {},
   "source": [
    "Les vecteurs de bases sont calculés ci-dessus (l'unité étant l'Angström) et représentés par le vecteur normalisé multiplié par sa longueur. Les mailles des réseaux directs sont représentées ci-dessous avec leurs contenus:"
   ]
  },
  {
   "cell_type": "markdown",
   "metadata": {},
   "source": [
    "| <img src=\"Images/mailleprim1.PNG\" alt=\"drawing\" width=\"300\"/>  | <img src=\"Images/mailleconv.PNG\" alt=\"drawing\" width=\"300\"/> |\n",
    "|:---:|:---:|\n",
    "| Maile primitive(trigonal) du CdBr2, les atomes de Cd sont représentés en mauve tandis que les atomes de Br sont en brun|Maille conventionnelle (hexagonale) utilisée notamment pour décrire le groupe d'espace de la structure cristalline  | "
   ]
  },
  {
   "cell_type": "markdown",
   "metadata": {},
   "source": [
    "Pour comprendre le lien existant entre la maille primitive et conventionnelle il suffit de réaliser le changement de base suivant exprimant les vecteurs de la maille conventionnelle selon les vecteurs primitifs:\n",
    "\n",
    "* $A=a-b$\n",
    "* $B=b-c$\n",
    "* $C=a+b+c$\n",
    "\n",
    "|<img src=\"Images/trighex.png\" alt=\"drawing\" width=\"400\"/>|\n",
    "|:---:|\n",
    "|La maille primitive ( schéma de gauche en rouge) est représenté dans un polyhèdre à base hexagonale formé par la maille conventionnelle (vecteurs A B C)|\n",
    "\n",
    "## Système cristallin,système réticulaire et groupe ponctuel\n",
    "\n",
    "Le système cristallin est basé sur une classification selon les groupes ponctuels et aspects morphologique des cristaux; le système réticulaire est une classification selon le type de réseau et les relations entre les vecteurs primitifs tandis que le groupe ponctuel est le groupe (au sens mathémathique) associé aux opérations de symétries ponctuels permises par le réseau. \n"
   ]
  },
  {
   "cell_type": "code",
   "execution_count": 32,
   "metadata": {},
   "outputs": [
    {
     "name": "stdout",
     "output_type": "stream",
     "text": [
      "Système cristallin: trigonal\n",
      "Système rériculaire: rhombohedral\n",
      "Groupe d espace: -3m\n"
     ]
    }
   ],
   "source": [
    "# Donne le syteme cristallin, le type de maille et le groupe ponctuel\n",
    "struct=SpacegroupAnalyzer(structure)\n",
    "lattype=struct.get_lattice_type()\n",
    "system=struct.get_crystal_system()\n",
    "pointg=struct.get_point_group_symbol()\n",
    "print('Système cristallin:',system)\n",
    "print('Système rériculaire:',lattype)\n",
    "print('Groupe d espace:',pointg)"
   ]
  },
  {
   "cell_type": "markdown",
   "metadata": {},
   "source": [
    "### Système cristallin\n",
    "Le cristal possède un système **trigonal**,système caractérisé principalement par le fait qu'il possède un axe de rotation ou roto-inversion d'ordre 3. Il possède les 5 groupes ponctuels suivants (notation de Hermann-Mauguin): **3, 3̅, 32, 3m, et 3̅m**\n",
    "\n",
    "### Système réticulaire\n",
    "Ce sont les paramètres de la maille primitive qui déterminent le système réticulaire. Ces paramètres sont tels que les vecteurs primitifs ont comme caractéristiques $l_a=l_b=l_c$ et $\\alpha=\\beta=\\gamma \\neq 90°$ (voir partie \"vecteurs de bases\". Celà correspond bien par définition à un système réticulaire de type **rhombohédrique**\n",
    "\n",
    "### Groupe ponctuel\n",
    "\n",
    "La structure cristalline possède comme éléments générateurs de symétries ponctuels un **axe de roto-inversion d'ordre 3** (dans la direction vecteur C de la maille hexagonale) et un **plan miroir** perpendiculaire à l'axe. Ces deux générateurs engendrent le groupe ponctuel **3̅m** d'ordre 12.\n",
    "\n",
    "\n",
    "|<img src=\"Images/grouppoint.PNG\" alt=\"drawing\" width=\"500\"/>|\n",
    "|:---:|\n",
    "Représentation visuelle du groupe 3̅m, les deux éléments de symétries générateurs du groupe sont affichés et les points peuvent représenter un noeud du réseau ou même un atome mais est surtout une représentation plus visuelle des 12 éléments du groupe"
   ]
  },
  {
   "cell_type": "markdown",
   "metadata": {},
   "source": []
  }
 ],
 "metadata": {
  "kernelspec": {
   "display_name": "Python 3",
   "language": "python",
   "name": "python3"
  },
  "language_info": {
   "codemirror_mode": {
    "name": "ipython",
    "version": 3
   },
   "file_extension": ".py",
   "mimetype": "text/x-python",
   "name": "python",
   "nbconvert_exporter": "python",
   "pygments_lexer": "ipython3",
   "version": "3.6.8"
  }
 },
 "nbformat": 4,
 "nbformat_minor": 2
}
