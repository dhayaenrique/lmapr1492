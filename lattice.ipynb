{
 "cells": [
  {
   "cell_type": "code",
   "execution_count": null,
   "metadata": {},
   "outputs": [],
   "source": [
    "from pymatgen.ext.matproj import MPRester\n",
    "from pymatgen.io.cif import CifWriter\n",
    "from pymatgen.symmetry.analyzer import SpacegroupAnalyzer\n",
    "\n",
    "\n",
    "# Permet d'utiliser l'interface du MP\n",
    "with MPRester(\"2r9TvKUOgDsTx87F\")as mpr:\n",
    "    \n",
    "    # Permet d'obtenir l'objet 'structure' sur le MP\n",
    "    structure = mpr.get_structure_by_material_id(\"mp-568690\")\n",
    "    \n",
    "    # Crée un objet permettant de convertir la structure en fichier cif\n",
    "    cw=CifWriter(structure)\n",
    "    cw.write_file(\"CdBr2\")\n",
    "    \n",
    "    # Donne les vecteurs primitifs du réseau direct et réciproque\n",
    "    \n",
    "    lat=structure.lattice\n",
    "    a=lat.get_cartesian_coords([1,0,0])\n",
    "    b=lat.get_cartesian_coords([0,1,0])\n",
    "    c=lat.get_cartesian_coords([0,0,1])\n",
    "    \n",
    "    latrec=lat.reciprocal_lattice\n",
    "    ar=latrec.get_cartesian_coords([1,0,0])\n",
    "    br=latrec.get_cartesian_coords([0,1,0])\n",
    "    cr=latrec.get_cartesian_coords([0,0,1])\n",
    "    \n",
    "    # Donne le syteme cristallin, le type de maille et le groupe ponctuel\n",
    "    sym=SpacegroupAnalyzer(structure)\n",
    "    \n",
    "    lattype=sym.get_lattice_type()\n",
    "    system=sym.get_crystal_system()\n",
    "    pointg=sym.get_point_group_symbol()\n",
    "   "
   ]
  },
  {
   "cell_type": "code",
   "execution_count": null,
   "metadata": {},
   "outputs": [],
   "source": []
  },
  {
   "cell_type": "code",
   "execution_count": null,
   "metadata": {},
   "outputs": [],
   "source": []
  },
  {
   "cell_type": "code",
   "execution_count": null,
   "metadata": {},
   "outputs": [],
   "source": []
  }
 ],
 "metadata": {
  "kernelspec": {
   "display_name": "Python 3",
   "language": "python",
   "name": "python3"
  },
  "language_info": {
   "codemirror_mode": {
    "name": "ipython",
    "version": 3
   },
   "file_extension": ".py",
   "mimetype": "text/x-python",
   "name": "python",
   "nbconvert_exporter": "python",
   "pygments_lexer": "ipython3",
   "version": "3.6.8"
  }
 },
 "nbformat": 4,
 "nbformat_minor": 2
}
