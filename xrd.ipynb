{
 "cells": [
  {
   "cell_type": "markdown",
   "metadata": {},
   "source": [
    "# Diffraction par Rayons-X\n",
    "\n",
    "Lorsque des rayons sont envoyés sur un cristal et si la longueur d'onde est de l'ordre des dimensions de la maille du cristal (typiquement 1A-2A, donc des rayons-X), ceux-ci sont diffractés et subissent des interférences dûes à la structure du cristal. Certaines directions présenteront des interférences constructives dont on pourra mesurer expérimentalement l'intensité de l'onde diffractée. Mesurer dans toutes les directions permet de réaliser un **diffractogramme** dont on va se servir afin d'obtenir toutes les informations de la structure cristalline (motif et réseau). Dans ce notebook sera étudié les trois premiers pics du diffractogramme du cristal CdBr2 pour un rayonnement [$Cu-K\\alpha$](http://gisaxs.com/index.php/Cu_K-alpha) correspondant à une **longueur d'onde  de 1.54060Å**."
   ]
  },
  {
   "cell_type": "code",
   "execution_count": 1,
   "metadata": {},
   "outputs": [],
   "source": [
    "from pymatgen.ext.matproj import MPRester\n",
    "from pymatgen.io.cif import CifWriter\n",
    "from pymatgen.symmetry.analyzer import SpacegroupAnalyzer\n",
    "from pymatgen.analysis.diffraction.xrd import XRDCalculator\n",
    "from pymatgen.util.plotting import pretty_plot\n",
    "\n",
    "# Permet d'utiliser l'interface du MP\n",
    "with MPRester(\"2r9TvKUOgDsTx87F\")as mpr:\n",
    "    \n",
    "    # Permet d'obtenir l'objet 'structure' sur le MP\n",
    "    structure = mpr.get_structure_by_material_id(\"mp-568690\")\n",
    "    new_s=SpacegroupAnalyzer(structure).get_primitive_standard_structure()\n",
    "    \n",
    "    # Crée un objet permettant de convertir la structure en fichier cif\n",
    "    cwsym=CifWriter(structure,0.1) # Maille hexagonale\n",
    "    cwsym.write_file(\"CdBr2sym\")\n",
    "    cwprim=CifWriter(new_s)     #Maille primitive\n",
    "    cwprim.write_file(\"CdBr2prim\")\n",
    "       "
   ]
  },
  {
   "cell_type": "markdown",
   "metadata": {},
   "source": [
    "## Diffraction dans un cristal\n",
    "Lorsque les rayons-X intéragissent avec le cristal, l'intensité des rayons diffractés va principalement dépendre de deux paramètres:\n",
    "* Le réseau cristallin: Les interférences constructives ne vont apparaître que pour certaines directions du rayon incident tandis que pour les autres directions l'amplitude du rayon diffracté sera nulle. Cette condition est géométrique et est formulée mathématiquement par la **loi de Bragg** \n",
    "\n",
    "* Le contenu de la maille: Même si les ondes diffusées repectent la loi de Bragg elles interfèrent également avec les atomes présents dans chaque maille induisant une diminution de son intensité. L'intensité résultante sera donc modélisée par le **facteur de structure** de la maille\n",
    "\n",
    "\n",
    "### Loi de Bragg\n",
    "\n",
    "Condition nécessaire à l'apparition de pics sur le diffractogramme, elle vient du fait que les rayons incidents sont considérés comme réfléchis par une même famille ${hkl}$ de plans réticulaires. Celà engendre un déphasage entre les ondes réfléchies dont les interférences seront constructives dans certaines conditions donnée par la loi de Bragg:\n",
    "\n",
    "**Loi de Bragg:** $n\\lambda =2d_{hkl}sin\\theta$\n",
    "\n",
    "* $\\lambda$: Longueur d'onde du rayon-X\n",
    "* $\\theta$: Angle formé par le plan réticulaire et le rayon incident (ou réfléchi)\n",
    "* $d_{hkl}$: Distance minimale entre deux plan d'une même famille\n",
    "* $n$: Nombre entier, appelé aussi \"ordre de la réflexion\"\n",
    "\n",
    "\n",
    "\n",
    "### Facteur de structure\n",
    "\n",
    "Le facteur de structure $S_k$ permet de calculer l'intensité du rayon diffracté (si la loi de Bragg est respectée) et est donné par:\n",
    "\n",
    "$S_K=\\sum_{j=1}^N f_j(K)e^{iK.r'_j}$ où $N$ est le nombre d'atomes dans la maille primitive.\n",
    "\n",
    "* $K$: Vecteur de diffusion avec $K=k'-k$ où $k$ représente le vecteur d'onde du rayon incident et $k'$ celui du rayon diffusé\n",
    "* $f_j$: Facteur de forme atomique de l'atome d'indice j de la maille primitive, sa valeur dépend notamment du vecteur de diffusion $K$ et de la densité des charges électroniques autour du noyau de l'atome.\n",
    "* $r'_j$: Position de l'atome d'indice j dans la maille primitive centrée en (0,0,0)\n",
    "\n",
    "En conclusion, la position des pics sur un diffractogramme sera déterminée par la condition de Bragg et l'intensité par le facteur de structure tel que $I=|S_K|^2$.\n",
    "\n",
    "## Analyse des pics du diffractogramme\n"
   ]
  },
  {
   "cell_type": "code",
   "execution_count": 8,
   "metadata": {},
   "outputs": [
    {
     "name": "stdout",
     "output_type": "stream",
     "text": [
      "Premier pic:\n",
      "Angle deuxtheta:  12.907039872217707 °\n",
      "Intensité:  63.97073814853898\n",
      "Plans réticulaires:  (1, 1, 1)\n",
      "Distance inter-plan:  6.8533759398272105\n",
      "\n",
      "Deuxieme pic:\n",
      "Angle deuxtheta:  25.575748472872174 °\n",
      "Intensité:  24.13492690272719\n",
      "Plans réticulaires:  (1, 0, 0)\n",
      "Distance inter-plan:  3.480132967897426\n",
      "\n",
      "Troisième pic:\n",
      "Angle deuxtheta:  25.98156774907488 °\n",
      "Intensité:  1.3074870788910256\n",
      "Plans réticulaires:  (2, 2, 2)\n",
      "Distance inter-plan:  3.4266879699136052\n",
      "\n"
     ]
    }
   ],
   "source": [
    " #Permet d'obtenir les informations relatives au diffractogramme\n",
    "xrd=XRDCalculator(1.54060)\n",
    "xrdpatt=xrd.get_pattern(new_s)\n",
    "\n",
    " #1er Pic de diffraction\n",
    "deth1=xrdpatt.x[0]\n",
    "I1=xrdpatt.y[0]\n",
    "Plan1=xrdpatt.hkls[0]\n",
    "Plan1=Plan1[0]['hkl']\n",
    "d1=xrdpatt.d_hkls[0]\n",
    "    \n",
    "    #2e Pic de diffraction\n",
    "deth2=xrdpatt.x[1]\n",
    "I2=xrdpatt.y[1]\n",
    "Plan2=xrdpatt.hkls[1]\n",
    "Plan2=Plan2[0]['hkl']\n",
    "d2=xrdpatt.d_hkls[1]\n",
    "    \n",
    "    #3e Pic de diffraction\n",
    "deth3=xrdpatt.x[2]\n",
    "I3=xrdpatt.y[2]\n",
    "Plan3=xrdpatt.hkls[2]\n",
    "Plan3=Plan3[0]['hkl']\n",
    "d3=xrdpatt.d_hkls[2]\n",
    "    \n",
    "print('Premier pic:')\n",
    "print('Angle deuxtheta: ',deth1,'°')\n",
    "print('Intensité: ',I1)\n",
    "print('Plans réticulaires: ',Plan1)\n",
    "print('Distance inter-plan: ',d1 )\n",
    "print()\n",
    "print('Deuxieme pic:')\n",
    "print('Angle deuxtheta: ',deth2,'°')\n",
    "print('Intensité: ',I2)\n",
    "print('Plans réticulaires: ',Plan2)\n",
    "print('Distance inter-plan: ',d2 )\n",
    "print()\n",
    "print('Troisième pic:')\n",
    "print('Angle deuxtheta: ',deth3,'°')\n",
    "print('Intensité: ',I3)\n",
    "print('Plans réticulaires: ',Plan3)\n",
    "print('Distance inter-plan: ',d3 )\n",
    "print()"
   ]
  },
  {
   "cell_type": "markdown",
   "metadata": {},
   "source": [
    "Il est également à noter que le [module](https://pymatgen.org/pymatgen.analysis.diffraction.xrd.html) de la librairie pymatgen permettant d'analyser la diffraction rayons-X ajoute la [correction de polarisation de Lorentz](https://dictionary.iucr.org/Lorentz%E2%80%93polarization_correction) pour calculer l'intensité des pics. Les trois premiers pics du diffractogramme sont fournis dans le tableau et graphe suivant:\n",
    "\n",
    "| $(h k l)$ | $2\\theta$ | $I$   | $d_{hkl}$   |\n",
    "|----------:|-----------|-------|----------------|\n",
    "| (1 1 1)   | 12.91°    | 63.97 | 6.854          |\n",
    "| (1 0 0)   | 25.57°    | 24.13 | 3.480          |\n",
    "| (2 2 2)   | 25.98°    | 1.307 | 3.437          |    \n",
    "\n",
    "|<img src=\"Images/xrdplot.PNG\" alt=\"drawing\" width=\"800\"/>|\n",
    "|:---:|\n",
    "|Intensité relative par rapport à l'onde incidente des différentes valeurs $2\\theta<90°$ du diffractogramme|\n",
    "\n",
    "Où $d_{hkl}$ est exprimé en Angstrom.\n",
    "\n",
    "Il faut noter que la famille de plans $(1 1 1)$ n'est pas celle de ${2 2 2}$ comme le prouve leurs distances interplan respectives, elles sont en fait intercalées les unes par rapport aux autres comme le montre ce schéma:\n",
    "\n",
    "|<img src=\"Images/plans.PNG\" alt=\"drawing\" width=\"500\"/>|\n",
    "|:---:|\n",
    "|Les plans $(1 1 1)$ sont représentés en bleu et les plans $(2 2 2)$ en rouge et sont formés soit par les atomes Cd (en mauve) ou les atomes Br (en bleu). Dans le cas des plans $(2 2 2)$ les atomes intéragissent avec les électrons de manière plus prononcée entre les plans ce qui dimininue fortement l'intensité de l'onde|"
   ]
  },
  {
   "cell_type": "code",
   "execution_count": null,
   "metadata": {},
   "outputs": [],
   "source": []
  }
 ],
 "metadata": {
  "kernelspec": {
   "display_name": "Python 3",
   "language": "python",
   "name": "python3"
  },
  "language_info": {
   "codemirror_mode": {
    "name": "ipython",
    "version": 3
   },
   "file_extension": ".py",
   "mimetype": "text/x-python",
   "name": "python",
   "nbconvert_exporter": "python",
   "pygments_lexer": "ipython3",
   "version": "3.6.8"
  }
 },
 "nbformat": 4,
 "nbformat_minor": 2
}
