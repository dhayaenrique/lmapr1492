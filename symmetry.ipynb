{
 "cells": [
  {
   "cell_type": "markdown",
   "metadata": {},
   "source": [
    "# Symétries du cristal"
   ]
  },
  {
   "cell_type": "code",
   "execution_count": 2,
   "metadata": {},
   "outputs": [],
   "source": [
    "from pymatgen.ext.matproj import MPRester\n",
    "from pymatgen.io.cif import CifWriter\n",
    "from pymatgen.symmetry.analyzer import SpacegroupAnalyzer\n",
    "from pymatgen.core.structure import Molecule\n",
    "from pymatgen.symmetry.groups import SpaceGroup\n",
    "from pymatgen.core.operations import SymmOp\n",
    "\n",
    "\n",
    "# Permet d'utiliser l'interface du MP\n",
    "with MPRester(\"2r9TvKUOgDsTx87F\")as mpr:\n",
    "    \n",
    "    # Permet d'obtenir l'objet 'structure' sur le MP\n",
    "    structure = mpr.get_structure_by_material_id(\"mp-568690\")\n",
    "    Sym=SpacegroupAnalyzer(structure)\n",
    "    new_s=Sym.get_primitive_standard_structure()\n",
    "    \n",
    "    # Crée un objet permettant de convertir la structure en fichier cif\n",
    "    cwsym=CifWriter(structure,0.1) # Maille hexagonale\n",
    "    cwsym.write_file(\"CdBr2sym\")\n",
    "    cwprim=CifWriter(new_s)     #Maille primitive\n",
    "    cwprim.write_file(\"CdBr2prim\")\n",
    "    \n",
    "    "
   ]
  },
  {
   "cell_type": "markdown",
   "metadata": {},
   "source": [
    "## Groupe d'espace associé au CdBr2\n",
    "\n",
    "Le groupe d'espace est le groupe mathématique représentant l'ensemble des symétries de la structure crisatlline; outre les symétries ponctuelles du cristal décrites par le groupe ponctuel il possède en plus les symétries de translation du réseau."
   ]
  },
  {
   "cell_type": "code",
   "execution_count": 3,
   "metadata": {
    "scrolled": false
   },
   "outputs": [
    {
     "name": "stdout",
     "output_type": "stream",
     "text": [
      "Symbole:  R-3m\n",
      "Numéro:  166\n",
      "Ordre:  36\n"
     ]
    }
   ],
   "source": [
    " #Génère le groupe d'espace et affiche son symbole son numéro et son ordre\n",
    "symb=Sym.get_space_group_symbol()\n",
    "Spacegr=SpaceGroup(symb)  \n",
    "\n",
    "print('Symbole: ',symb)\n",
    "print('Numéro: ',Sym.get_space_group_number())\n",
    "print('Ordre: ',Spacegr.order)\n",
    "   "
   ]
  },
  {
   "cell_type": "markdown",
   "metadata": {},
   "source": [
    "Le groupe d'espace peut être obtenu à partir du type de maille et du groupe ponctuel (déjà étudiés dans le notebook [lattice](lattice.ipynb)). La maille primitive étant rhombohédrique et le groupe ponctuel 3̅m, le groupe d'espace est symbolisé par ***R3̅m*** et porte le numéro **166** dans les tables internationales. Ce groupe possède 36 éléments de symétries et comme le groupe ponctuel du CdBr2 est d'ordre 12 il y'a en plus 24 éléments correspondant à des symétries de translations dans le groupe d'espace. Ici sera étudié en particulier 3 élements: une roto-inversion, un plan miroir et une rotation hélicoïdale.\n",
    "\n",
    "## Roto-inversion d'ordre 3\n"
   ]
  },
  {
   "cell_type": "code",
   "execution_count": 6,
   "metadata": {},
   "outputs": [
    {
     "name": "stdout",
     "output_type": "stream",
     "text": [
      "Matrice associée: \n",
      "Rot:\n",
      "[[ 0.  1.  0.]\n",
      " [-1.  1.  0.]\n",
      " [ 0.  0. -1.]]\n",
      "tau\n",
      "[0. 0. 0.]\n",
      "\n",
      "Point de départ:  [0.3333333333333333, 0.6666666666666666, -0.3333333333333333]\n",
      "\n",
      "Point d arrivée:  [0.66666667 0.33333333 0.33333333]\n"
     ]
    }
   ],
   "source": [
    "#1:Rotoinversion\n",
    "Op1=Spacegr[7]\n",
    "point1=[1/3,2/3,-1/3]\n",
    "coord1=Op1.operate(point1)\n",
    "\n",
    "print('Matrice associée: ')\n",
    "print(Op1)\n",
    "print()\n",
    "print('Point de départ: ', point1)\n",
    "print()\n",
    "print('Point d arrivée: ',coord1)"
   ]
  },
  {
   "cell_type": "markdown",
   "metadata": {},
   "source": [
    "Cet élément de symétrie est le 4e du fichier CIF,il est caractérisé par un axe de rotation d'ordre 3 de direction $[0,0,1]$ et un centre d'inversion en $(0,0,0)$. Elle effectue sur un point de l'espace une rotation de $+120°$ autour de son axe accompagnée d'une inversion et a comme matrice de transformation:\n",
    "\n",
    "$$S_4=\n",
    "\\left(\\begin{array}{ccc} \n",
    "0 & 1& 0\\\\\n",
    "-1 & 1 & 0\\\\\n",
    "0& 0& -1\n",
    "\\end{array}\\right)$$\n",
    "\n",
    "Celle-ci est exprimé dans la base conventionnelle (hexagonale) du réseau et par cet élément, tout atome situé sur un site $(x,y,z)$ sera envoyé sur un site équivalent $(y,-x+y,-z)$. Plus spécifiquement si l'on considère l'atome de Cadmium situé en $(1/3,2/3,-1/3)$, il subira la transformation $(1/3,2/3,-1/3)\\rightarrow (2/3,1/3,1/3)$. Celle-ci est illustrée ci-dessous.\n",
    "\n",
    "|<img src=\"Images/rot.jpg\" alt=\"drawing\" width=\"400\"/>|\n",
    "|:---:|\n",
    "|Roto-inversion de l'atome de Cd $(1/3,2/3,-1/3)\\rightarrow (2/3,1/3,1/3)$ L'inversion est représentée par le vecteur turquoise suivi d'une rotation en rouge dont l'axe correspond au vecteur $C$  de la maille conventionnelle|\n",
    "\n",
    "## Plan miroir $(\\bar{2},1,0)$"
   ]
  },
  {
   "cell_type": "code",
   "execution_count": 4,
   "metadata": {},
   "outputs": [
    {
     "name": "stdout",
     "output_type": "stream",
     "text": [
      "Matrice associée: \n",
      "Rot:\n",
      "[[-1.  1.  0.]\n",
      " [ 0.  1.  0.]\n",
      " [ 0.  0.  1.]]\n",
      "tau\n",
      "[0. 0. 0.]\n",
      "\n",
      "Point de départ:  [0.6666666666666666, 0.3333333333333333, 0.3333333333333333]\n",
      "\n",
      "Point d arrivée:  [-0.33333333  0.33333333  0.33333333]\n"
     ]
    }
   ],
   "source": [
    " #2: Plan miroir \n",
    "Op2=Spacegr[11]\n",
    "point2=[2/3,1/3,1/3]\n",
    "coord2=Op2.operate(point2)\n",
    "\n",
    "print('Matrice associée: ')\n",
    "print(Op2)\n",
    "print()\n",
    "print('Point de départ: ', point2)\n",
    "print()\n",
    "print('Point d arrivée: ',coord2)"
   ]
  },
  {
   "cell_type": "markdown",
   "metadata": {},
   "source": [
    "Cette symétrie miroir est la 10e dans le fichier CIF et peut être décrite par un plan miroir dont les indices de miller sont $(\\bar{2},1,0)$ et a pour matrice de transformation:\n",
    "\n",
    "$$S_{10}=\n",
    "\\left(\\begin{array}{ccc} \n",
    "-1 & 1& 0\\\\\n",
    "0 & 1 & 0\\\\\n",
    "0& 0& 1\n",
    "\\end{array}\\right)$$\n",
    "\n",
    "Par cet élément, l'atome situé sur le site $(x,y,z)$ sera envoyé sur un site équivalent $(-x+y,y,z)$. En particulier avec l'atome de Cd se trouvant en $(2/3,1/3,1/3)$, celui-ci aura pour application  $(2/3,1/3,1/3)\\rightarrow (-1/3,1/3,1/3)$ figurée dans le schéma correspondant.\n",
    "\n",
    "|<img src=\"Images/miroir.jpg\" alt=\"drawing\" width=\"400\"/>|\n",
    "|:---:|\n",
    "|Symétrie orthogonale de l'atome de Cd  $(2/3,1/3,1/3)\\rightarrow (-1/3,1/3,1/3)$ représentée par le vecteur turquoise, le plan miroir est représenté en vert.|\n",
    "\n",
    "## Axe hélicoïdale $3_1$"
   ]
  },
  {
   "cell_type": "code",
   "execution_count": 7,
   "metadata": {},
   "outputs": [
    {
     "name": "stdout",
     "output_type": "stream",
     "text": [
      "Matrice associée: \n",
      "Rot:\n",
      "[[-1.  1.  0.]\n",
      " [-1.  0.  0.]\n",
      " [ 0.  0.  1.]]\n",
      "tau\n",
      "[-0.33333333  0.33333333  0.33333333]\n",
      "\n",
      "Point de départ:  [-0.3333333333333333, 0.3333333333333333, 0.3333333333333333]\n",
      "\n",
      "Point d arrivée:  [0.33333333 0.66666667 0.66666667]\n"
     ]
    }
   ],
   "source": [
    " #3: Axe hélicoidale\n",
    "Op3=Op1.from_rotation_and_translation(rotation_matrix=((-1, 1, 0), (-1, 0, 0), (0, 0, 1)), translation_vec=(-1/3, 1/3, 1/3), tol=0.1)\n",
    "point3=[-1/3,1/3,1/3]\n",
    "coord3=Op3.operate(point3)\n",
    "\n",
    "print('Matrice associée: ')\n",
    "print(Op3)\n",
    "print()\n",
    "print('Point de départ: ', point3)\n",
    "print()\n",
    "print('Point d arrivée: ',coord3)\n",
    "   "
   ]
  },
  {
   "cell_type": "markdown",
   "metadata": {},
   "source": [
    "17e symétrie dans le fichier CIF, elle est caractérisée par un axe parallèle au vecteur $[0,0,1]$ du réseau et qui passe par le point $(0,1/3,0)$. L'effet de cet élément est d'appliquer une rotation de $-120°$ autour de cet axe et une translation de vecteur $[0,0,1/3]$ (rotation hélicoïdale $3_1$ dans le sens horloger); mathématiquement celà s'exprime:\n",
    "\n",
    "$$\n",
    "\\left(\\begin{array}{ccc} \n",
    "-1 & 1& 0\\\\\n",
    "-1 & 0 & 0\\\\\n",
    "0& 0& 1\n",
    "\\end{array}\\right)\n",
    ".\n",
    "\\left(\\begin{array}{c} \n",
    "x \\\\\n",
    "y\\\\\n",
    "z\n",
    "\\end{array}\\right)\n",
    "+\n",
    "\\left(\\begin{array}{c} \n",
    "-1/3 \\\\\n",
    "1/3\\\\\n",
    "1/3\n",
    "\\end{array}\\right)\n",
    "=\n",
    "\\left(\\begin{array}{c} \n",
    "-1/3-x+y \\\\\n",
    "1/3-x\\\\\n",
    "1/3+z\n",
    "\\end{array}\\right)\n",
    "$$\n",
    "\n"
   ]
  },
  {
   "cell_type": "markdown",
   "metadata": {},
   "source": [
    "Ce qui est donc équivalent à une rotation autour de l'axe $C$ suivi d'une translation de vecteur $[-1/3,1/3,1/3]$. Un exemple de cette symétrie est schématisée en dessous; l'atome de Cd en $(-1/3,1/3,1/3)$ est envoyé sur le site correspondant $(1/3,2/3,2/3)$.\n",
    "\n",
    "|<img src=\"Images/hel.jpg\" alt=\"drawing\" width=\"400\"/>|\n",
    "|:---:|\n",
    "|Rotation hélicoïdale $3_1$ de Cd  $(-1/3,1/3,1/3)\\rightarrow (1/3,2/3,1/3)$ avec la flèche orange représentant la translation $[0,0,1/3]$ et la rouge montre la rotation autour de l'axe|"
   ]
  }
 ],
 "metadata": {
  "kernelspec": {
   "display_name": "Python 3",
   "language": "python",
   "name": "python3"
  },
  "language_info": {
   "codemirror_mode": {
    "name": "ipython",
    "version": 3
   },
   "file_extension": ".py",
   "mimetype": "text/x-python",
   "name": "python",
   "nbconvert_exporter": "python",
   "pygments_lexer": "ipython3",
   "version": "3.6.8"
  }
 },
 "nbformat": 4,
 "nbformat_minor": 2
}
