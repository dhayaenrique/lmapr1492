{
 "cells": [
  {
   "cell_type": "code",
   "execution_count": 2,
   "metadata": {},
   "outputs": [],
   "source": [
    "from pymatgen.ext.matproj import MPRester\n",
    "from pymatgen.io.cif import CifWriter\n",
    "from pymatgen.symmetry.analyzer import SpacegroupAnalyzer\n",
    "\n",
    "# Permet d'utiliser l'interface du MP\n",
    "with MPRester(\"2r9TvKUOgDsTx87F\")as mpr:\n",
    "    \n",
    "    # Permet d'obtenir l'objet 'structure' sur le MP\n",
    "    structure = mpr.get_structure_by_material_id(\"mp-568690\")\n",
    "    new_s=SpacegroupAnalyzer(structure).get_primitive_standard_structure()\n",
    "    \n",
    "    # Crée un objet permettant de convertir la structure en fichier cif\n",
    "    cwsym=CifWriter(structure,0.1) # Maille hexagonale\n",
    "    cwsym.write_file(\"CdBr2sym\")\n",
    "    cwprim=CifWriter(new_s)     #Maille primitive\n",
    "    cwprim.write_file(\"CdBr2prim\")\n",
    "    "
   ]
  },
  {
   "cell_type": "code",
   "execution_count": null,
   "metadata": {},
   "outputs": [],
   "source": []
  },
  {
   "cell_type": "code",
   "execution_count": null,
   "metadata": {},
   "outputs": [],
   "source": []
  }
 ],
 "metadata": {
  "kernelspec": {
   "display_name": "Python 3",
   "language": "python",
   "name": "python3"
  },
  "language_info": {
   "codemirror_mode": {
    "name": "ipython",
    "version": 3
   },
   "file_extension": ".py",
   "mimetype": "text/x-python",
   "name": "python",
   "nbconvert_exporter": "python",
   "pygments_lexer": "ipython3",
   "version": "3.6.8"
  }
 },
 "nbformat": 4,
 "nbformat_minor": 2
}
