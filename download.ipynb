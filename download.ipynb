{
 "cells": [
  {
   "cell_type": "code",
   "execution_count": 2,
   "metadata": {},
   "outputs": [
    {
     "name": "stdout",
     "output_type": "stream",
     "text": [
      "[{'cif': \"# generated using pymatgen\\ndata_CdBr2\\n_symmetry_space_group_name_H-M   'P 1'\\n_cell_length_a   7.24640228\\n_cell_length_b   7.24640252\\n_cell_length_c   7.24640176\\n_cell_angle_alpha   32.67990093\\n_cell_angle_beta   32.67989817\\n_cell_angle_gamma   32.67990106\\n_symmetry_Int_Tables_number   1\\n_chemical_formula_structural   CdBr2\\n_chemical_formula_sum   'Cd1 Br2'\\n_cell_volume   98.67116941\\n_cell_formula_units_Z   1\\nloop_\\n _symmetry_equiv_pos_site_id\\n _symmetry_equiv_pos_as_xyz\\n  1  'x, y, z'\\nloop_\\n _atom_site_type_symbol\\n _atom_site_label\\n _atom_site_symmetry_multiplicity\\n _atom_site_fract_x\\n _atom_site_fract_y\\n _atom_site_fract_z\\n _atom_site_occupancy\\n  Cd  Cd0  1  0.000000  0.000000  0.000000  1\\n  Br  Br1  1  0.742852  0.742852  0.742852  1\\n  Br  Br2  1  0.257148  0.257148  0.257148  1\\n\"}]\n"
     ]
    }
   ],
   "source": [
    "from pymatgen.ext.matproj import MPRester\n",
    "\n",
    "# Permet d'utiliser l'interface du MP\n",
    "with MPRester(\"2r9TvKUOgDsTx87F\")as mpr:\n",
    "    \n",
    "    # Utilise la méthode \"query\" pour obtenir le fichier cif de CdBr2\n",
    "    data=mpr.query(\"mp-568690\",[\"cif\"])\n",
    "    "
   ]
  },
  {
   "cell_type": "code",
   "execution_count": null,
   "metadata": {},
   "outputs": [],
   "source": []
  }
 ],
 "metadata": {
  "kernelspec": {
   "display_name": "Python 3",
   "language": "python",
   "name": "python3"
  },
  "language_info": {
   "codemirror_mode": {
    "name": "ipython",
    "version": 3
   },
   "file_extension": ".py",
   "mimetype": "text/x-python",
   "name": "python",
   "nbconvert_exporter": "python",
   "pygments_lexer": "ipython3",
   "version": "3.6.8"
  }
 },
 "nbformat": 4,
 "nbformat_minor": 2
}
