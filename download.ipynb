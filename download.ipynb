#!/usr/bin/env python
# coding: utf-8

# In[2]:


from pymatgen.ext.matproj import MPRester

# Permet d'utiliser l'interface du MP
with MPRester("2r9TvKUOgDsTx87F")as mpr:
    
    # Utilise la méthode "query" pour obtenir le fichier cif de CdBr2
    data=mpr.query("mp-568690",["cif"])
    


# In[ ]:




